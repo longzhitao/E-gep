{
 "cells": [
  {
   "cell_type": "code",
   "execution_count": null,
   "metadata": {
    "collapsed": true,
    "pycharm": {
     "is_executing": true
    }
   },
   "outputs": [
    {
     "name": "stdout",
     "text": [
      "1\n2\n",
      "3\n4\n",
      "5\n",
      "6\n",
      "7\n",
      "8\n9",
      "\n",
      "10\n11\n",
      "12\n13",
      "\n",
      "14\n15\n",
      "16\n",
      "17\n",
      "18\n",
      "19\n",
      "20\n21",
      "\n",
      "22\n",
      "23\n",
      "24\n25",
      "\n26\n",
      "27\n",
      "28\n",
      "29\n",
      "30\n31\n",
      "32\n",
      "33\n34",
      "\n",
      "35\n36\n",
      "37\n38\n",
      "39\n",
      "40\n41\n",
      "42\n",
      "43\n",
      "44\n",
      "45\n",
      "46\n",
      "47\n48",
      "\n",
      "49\n",
      "50\n",
      "51\n52",
      "\n53\n",
      "54\n55\n",
      "56\n",
      "57\n",
      "58\n",
      "59\n",
      "60\n61\n",
      "62\n",
      "63\n64",
      "\n",
      "65\n",
      "66\n"
     ],
     "output_type": "stream"
    },
    {
     "data": {
      "text/plain": "<Figure size 640x480 with 1 Axes>"
     },
     "metadata": {},
     "output_type": "display_data"
    },
    {
     "data": {
      "text/plain": "<Figure size 640x480 with 1 Axes>"
     },
     "metadata": {},
     "output_type": "display_data"
    },
    {
     "data": {
      "text/plain": "<Figure size 640x480 with 1 Axes>"
     },
     "metadata": {},
     "output_type": "display_data"
    },
    {
     "data": {
      "text/plain": "<Figure size 640x480 with 1 Axes>"
     },
     "metadata": {},
     "output_type": "display_data"
    },
    {
     "data": {
      "text/plain": "<Figure size 640x480 with 1 Axes>"
     },
     "metadata": {},
     "output_type": "display_data"
    },
    {
     "data": {
      "text/plain": "<Figure size 640x480 with 1 Axes>"
     },
     "metadata": {},
     "output_type": "display_data"
    }
   ],
   "source": [
    "from algorithms import GEP\n",
    "from setting import _sample_independent_list\n",
    "from setting import Parameter\n",
    "import numpy as np\n",
    "from matplotlib import pyplot as plt\n",
    "\n",
    "plt.figure(figsize=(8, 6), dpi=80)\n",
    "g = GEP()\n",
    "generation = 1\n",
    "\n",
    "while True:\n",
    "    if generation < Parameter.max_generation:\n",
    "        g.generate_offspring()\n",
    "        g.compute_probability()\n",
    "        print(generation)\n",
    "        generation = generation + 1\n",
    "        if generation % 10 == 0:\n",
    "            plt.clf()\n",
    "            plt.figure(figsize=(8, 6), dpi=80)\n",
    "            x = np.arange(0, 90)\n",
    "            y = np.asarray(_sample_independent_list[10:])\n",
    "            plt.title('No.' + str(generation) + ' generation')\n",
    "            plt.xlabel(\"X\")\n",
    "            plt.xlim(10, 100)\n",
    "\n",
    "            plt.ylabel(\"Y\")\n",
    "            plt.ylim(-10, 180)\n",
    "            plt.plot(x, y, label=\"actual value\")\n",
    "            plt.plot(x, g.compute_chromosome_value(g.max_fitness_chromosome), label=\"predictive value\")\n",
    "            plt.text(60, 170, 'Fitness:')\n",
    "            plt.text(70, 170, str(g.max_fitness))\n",
    "            plt.text(60, 160, g.show_result())\n",
    "            plt.legend(loc=\"upper left\", shadow=True)\n",
    "            plt.pause(0.1)\n",
    "\n",
    "            pass\n",
    "        else:\n",
    "            pass\n",
    "        if g.max_fitness > Parameter.constraint_constant * Parameter.num_of_samples - 1000:\n",
    "            break\n"
   ]
  }
 ],
 "metadata": {
  "kernelspec": {
   "display_name": "Python 3",
   "language": "python",
   "name": "python3"
  },
  "language_info": {
   "codemirror_mode": {
    "name": "ipython",
    "version": 2
   },
   "file_extension": ".py",
   "mimetype": "text/x-python",
   "name": "python",
   "nbconvert_exporter": "python",
   "pygments_lexer": "ipython2",
   "version": "2.7.6"
  },
  "pycharm": {
   "stem_cell": {
    "cell_type": "raw",
    "source": [],
    "metadata": {
     "collapsed": false
    }
   }
  }
 },
 "nbformat": 4,
 "nbformat_minor": 0
}